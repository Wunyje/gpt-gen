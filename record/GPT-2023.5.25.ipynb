{
 "cells": [
  {
   "cell_type": "code",
   "execution_count": 1,
   "metadata": {},
   "outputs": [],
   "source": [
    "import openai\n",
    "import os\n",
    "import cryptocode\n",
    "import my_prompt\n",
    "\n",
    "os.environ[\"http_proxy\"]=\"127.0.0.1:10810\"\n",
    "os.environ[\"https_proxy\"]=\"127.0.0.1:10810\"\n",
    "encrypt_key = '+jPnEOUhc49yoEKpqTAPiSenr4dGz37Add436GjHSXyM2wvqpDvkIfaH51vDeDPElfee*SV8GL/gwJJdXjtGe1Y8sdA==*vpovYFJYnDuD6ALUJlazFg==*m+DOSfnpsLovZfrzYmwPyA=='\n",
    "openai.api_key  = cryptocode.decrypt(encrypt_key, \"wunyje-key\")\n",
    "def get_completion(prompt, model=\"gpt-3.5-turbo\", temperature=0):\n",
    "    messages = [{\"role\": \"user\", \"content\": prompt}]\n",
    "    response = openai.ChatCompletion.create(\n",
    "        model=model,\n",
    "        messages=messages\n",
    "    )\n",
    "    return response.choices[0].message[\"content\"]\n",
    "\n",
    "def Copy_To_Clipboard( string ):\n",
    "    \"\"\" 将需要的字符串或文字复制到剪切板. \"\"\"\n",
    "    from tkinter import Tk\n",
    "    r = Tk()\n",
    "    r.withdraw()\n",
    "    r.clipboard_clear()\n",
    "    r.clipboard_append(string)\n",
    "    r.update()"
   ]
  },
  {
   "attachments": {},
   "cell_type": "markdown",
   "metadata": {},
   "source": [
    "# Introduction of Cellular penetration test on Android 10 device"
   ]
  },
  {
   "cell_type": "code",
   "execution_count": 2,
   "metadata": {},
   "outputs": [],
   "source": [
    "text = f\"\"\"\n",
    "Introduction of Cellular penetration test on Android 10 device\n",
    "1 What is Cellular?\n",
    "1.1 What the structure of Cellular, illustrate both in software and hardware on SD690?\n",
    "1.2 How does Cellular work on Android 10 device on SD690?\n",
    "2 What is Cellular penetration test?\n",
    "2.1 How could it be implemented on Android 10 device?\n",
    "2.1.1 What tools are needed?\n",
    "2.1.2 How to use these tools individually or together? (Use examples to illustrate)\n",
    "2.1.3 How to use MSF to penetrate Cellular on Android 10 device?\n",
    "2.2.How to utilize existing CVE vulnerabilities of Cellular on Android 10?\n",
    "2.2.1 What are the CVE  vulnerabilities about Cellular on Android 10 after 2020?\n",
    "2.2.2 Does any of these vulnerabilities have POC, or have been exploited?\n",
    "\"\"\"\n",
    "\n",
    "prompt = my_prompt.gpt_content_gen_prompt(text)\n",
    "Copy_To_Clipboard(prompt)"
   ]
  }
 ],
 "metadata": {
  "kernelspec": {
   "display_name": "Python 3",
   "language": "python",
   "name": "python3"
  },
  "language_info": {
   "codemirror_mode": {
    "name": "ipython",
    "version": 3
   },
   "file_extension": ".py",
   "mimetype": "text/x-python",
   "name": "python",
   "nbconvert_exporter": "python",
   "pygments_lexer": "ipython3",
   "version": "3.11.2"
  },
  "orig_nbformat": 4
 },
 "nbformat": 4,
 "nbformat_minor": 2
}
