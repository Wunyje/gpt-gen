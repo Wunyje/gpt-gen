{
 "cells": [
  {
   "cell_type": "code",
   "execution_count": 1,
   "metadata": {},
   "outputs": [],
   "source": [
    "import openai\n",
    "import os\n",
    "import cryptocode\n",
    "import my_prompt\n",
    "\n",
    "os.environ[\"http_proxy\"]=\"127.0.0.1:10810\"\n",
    "os.environ[\"https_proxy\"]=\"127.0.0.1:10810\"\n",
    "encrypt_key = '+jPnEOUhc49yoEKpqTAPiSenr4dGz37Add436GjHSXyM2wvqpDvkIfaH51vDeDPElfee*SV8GL/gwJJdXjtGe1Y8sdA==*vpovYFJYnDuD6ALUJlazFg==*m+DOSfnpsLovZfrzYmwPyA=='\n",
    "openai.api_key  = cryptocode.decrypt(encrypt_key, \"wunyje-key\")\n",
    "def get_completion(prompt, model=\"gpt-3.5-turbo\", temperature=0):\n",
    "    messages = [{\"role\": \"user\", \"content\": prompt}]\n",
    "    response = openai.ChatCompletion.create(\n",
    "        model=model,\n",
    "        messages=messages\n",
    "    )\n",
    "    return response.choices[0].message[\"content\"]"
   ]
  },
  {
   "attachments": {},
   "cell_type": "markdown",
   "metadata": {},
   "source": [
    "## Prompt format convertor"
   ]
  },
  {
   "cell_type": "code",
   "execution_count": 10,
   "metadata": {},
   "outputs": [
    {
     "name": "stdout",
     "output_type": "stream",
     "text": [
      "\n",
      "0. After reading the whole prompt, then output as required:\n",
      "1. Only <read> given information <delimited bydouble backticks> and <make no output>: \n",
      "`` ``.\n",
      "2. Write code as required in the text <delimited bytriple backticks>.\n",
      "```\n",
      "Write code in Python that can convert text format:\n",
      "1. The input is serially numbered titles with hierarchy;\n",
      "2. The hierarchy is formed as: *, *.*, *.*.*,... for example: 1, 1.1, 1.2.1...As longer the serial number is, the class is lower.\n",
      "3. The code is required to transform the titles to \\ \n",
      "different class Markdown, basing on the hierarchy: 1 abc \n",
      "1.1 acb\n",
      "1.1.1 bca\n",
      "to\n",
      "## 1 abc \n",
      "### 1.1 acb\n",
      "#### 1.1.1 bca\n",
      "and so on\n",
      "```\n",
      "\n"
     ]
    }
   ],
   "source": [
    "# Introduction of Bluetooth penetration test on Android 10 device\n",
    "text = f\"\"\"\n",
    "Write code in Python that can convert text format:\n",
    "1. The input is serially numbered titles with hierarchy;\n",
    "2. The hierarchy is formed as: *, *.*, *.*.*,... \\\n",
    "for example: 1, 1.1, 1.2.1...As longer the \\\n",
    "serial number is, the class is lower.\n",
    "3. The code is required to transform the titles to \\ \n",
    "different class Markdown, basing on the hierarchy: \\\n",
    "1 abc \n",
    "1.1 acb\n",
    "1.1.1 bca\n",
    "to\n",
    "## 1 abc \n",
    "### 1.1 acb\n",
    "#### 1.1.1 bca\n",
    "and so on\n",
    "\"\"\"\n",
    "prompt = my_prompt.gpt_code_gen_prompt(text)\n",
    "\n",
    "print(prompt)\n"
   ]
  },
  {
   "cell_type": "code",
   "execution_count": 8,
   "metadata": {},
   "outputs": [
    {
     "name": "stdout",
     "output_type": "stream",
     "text": [
      "\n",
      "0. After reading the whole prompt, then output as required:\n",
      "1. Only <read> given information <delimited by double backticks> and <make no output>: \n",
      "`` ``.\n",
      "2. Answer the questions in the text <delimited by triple backticks>.Put the answer below each question.\n",
      "3. Output <[original serial numbered questions] and [generated answers]> in <hierarchical raw grammarly Markdown format>.\n",
      "```# =\n",
      "## 2 What is Bluetooth penetration test?\n",
      "### 2.1 How could it be implemented on Android 10 device?\n",
      "#### 2.1.1 What tools are needed?\n",
      "##### 2.1.1.1 How to use these tools individually or together? (Use examples to illustrate)\n",
      "##### 2.1.1.2 How to use MSF to penetrate Bluetooth on Android 10 device?\n",
      "#### 2.1.2 Targeting at `Bluedroid`, what things could be done to penetrate that?  \n",
      "### 2.2 How to utilize existing CVE vulnerabilities of Bluetooth on Android 10?\n",
      "#### 2.2.1 What are the CVE  vulnerabilities about Bluetooth on Android 10 after 2020?\n",
      "#### 2.2.2 Does any of these vulnerabilities have POC, or have been exploited?```\n",
      "\n"
     ]
    }
   ],
   "source": [
    "text = f\"\"\"\n",
    "=\n",
    "2 What is Bluetooth penetration test?\n",
    "2.1 How could it be implemented on Android 10 device?\n",
    "2.1.1 What tools are needed?\n",
    "2.1.1.1 How to use these tools individually or together? (Use examples to illustrate)\n",
    "2.1.1.2 How to use MSF to penetrate Bluetooth on Android 10 device?\n",
    "2.1.2 Targeting at `Bluedroid`, what things could be done to penetrate that?  \n",
    "2.2 How to utilize existing CVE vulnerabilities of Bluetooth on Android 10?\n",
    "2.2.1 What are the CVE  vulnerabilities about Bluetooth on Android 10 after 2020?\n",
    "2.2.2 Does any of these vulnerabilities have POC, or have been exploited?\n",
    "\"\"\"\n",
    "\n",
    "prompt = my_prompt.gpt_content_gen_prompt(text)\n",
    "print(prompt)"
   ]
  }
 ],
 "metadata": {
  "kernelspec": {
   "display_name": "Python 3",
   "language": "python",
   "name": "python3"
  },
  "language_info": {
   "codemirror_mode": {
    "name": "ipython",
    "version": 3
   },
   "file_extension": ".py",
   "mimetype": "text/x-python",
   "name": "python",
   "nbconvert_exporter": "python",
   "pygments_lexer": "ipython3",
   "version": "3.11.2"
  },
  "orig_nbformat": 4
 },
 "nbformat": 4,
 "nbformat_minor": 2
}
