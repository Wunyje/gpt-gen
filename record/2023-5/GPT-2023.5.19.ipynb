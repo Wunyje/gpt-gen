{
 "cells": [
  {
   "cell_type": "code",
   "execution_count": 6,
   "metadata": {},
   "outputs": [],
   "source": [
    "import openai\n",
    "import os\n",
    "import cryptocode\n",
    "\n",
    "os.environ[\"http_proxy\"]=\"127.0.0.1:10810\"\n",
    "os.environ[\"https_proxy\"]=\"127.0.0.1:10810\"\n",
    "encrypt_key = '+jPnEOUhc49yoEKpqTAPiSenr4dGz37Add436GjHSXyM2wvqpDvkIfaH51vDeDPElfee*SV8GL/gwJJdXjtGe1Y8sdA==*vpovYFJYnDuD6ALUJlazFg==*m+DOSfnpsLovZfrzYmwPyA=='\n",
    "openai.api_key  = cryptocode.decrypt(encrypt_key, \"wunyje-key\")"
   ]
  },
  {
   "cell_type": "code",
   "execution_count": 7,
   "metadata": {},
   "outputs": [],
   "source": [
    "def get_completion(prompt, model=\"gpt-3.5-turbo\", temperature=0):\n",
    "    messages = [{\"role\": \"user\", \"content\": prompt}]\n",
    "    response = openai.ChatCompletion.create(\n",
    "        model=model,\n",
    "        messages=messages\n",
    "    )\n",
    "    return response.choices[0].message[\"content\"]"
   ]
  },
  {
   "attachments": {},
   "cell_type": "markdown",
   "metadata": {},
   "source": [
    "# Indroduction about `Reversing SD690 Image Files`"
   ]
  },
  {
   "cell_type": "code",
   "execution_count": 34,
   "metadata": {},
   "outputs": [
    {
     "name": "stdout",
     "output_type": "stream",
     "text": [
      "prompt:\n",
      " \n",
      "Answer the questions in the text delimited by triple backticks.\n",
      "Put the answer below each question. Output questions and answers in raw Markdown format.\n",
      "```\n",
      "(\n",
      "Under the condition that this SD690(SnapDragon 690) is interacting with RH850,the target is figuring out the interaction between SD690 and RH850by revering specific image file in infomation delimited by doublebackticks:\n",
      "``\n",
      "Given image files: [abl.img, aop.img, bluetooth.img,boot.img, core_nhlos.img, devcfg.img, dsp.img, dtbo.img, featenabler.img, hyp.img, imagefv.img, keymaster.img, modem.img, multiimgoem.img, product.img, qupfw.img, recovery.img, system.img, tz.img, uefisecapp.img, vbmeta.img, vbmeta_system.img, vendor.img, xbl_config.img, xbl.img]\n",
      "\n",
      "``\n",
      ")\n",
      "# Indroduction about `Reversing SD690 Image Files`:\n",
      "## 1. What is SD690 and RH850?\n",
      "### 1.1 What is the relationship between them?\n",
      "## 2. What is the target of this reversing?\n",
      "## 3. What are the image files in SD690?\n",
      "### 2.1 What are the image files' function?\n",
      "### 2.2 Which image file or files should be reversed?\n",
      "#### 2.2.1 How to reverse in details\n",
      "```\n",
      " \n",
      "\n",
      "response:\n",
      " # Answers\n",
      "## 1. What is SD690 and RH850?\n",
      "SD690 is a SnapDragon 690 processor and RH850 is another type of processor which is interacting with SD690 in this case.\n",
      "### 1.1 What is the relationship between them?\n",
      "The relationship between SD690 and RH850 is not specified in the given text.\n",
      "## 2. What is the target of this reversing?\n",
      "The target of this reversing is to figure out the interaction between SD690 and RH850 by reversing specific image file(s).\n",
      "## 3. What are the image files in SD690?\n",
      "The image files in SD690 are:\n",
      "- abl.img\n",
      "- aop.img\n",
      "- bluetooth.img\n",
      "- boot.img\n",
      "- core_nhlos.img\n",
      "- devcfg.img\n",
      "- dsp.img\n",
      "- dtbo.img\n",
      "- featenabler.img\n",
      "- hyp.img\n",
      "- imagefv.img\n",
      "- keymaster.img\n",
      "- modem.img\n",
      "- multiimgoem.img\n",
      "- product.img\n",
      "- qupfw.img\n",
      "- recovery.img\n",
      "- system.img\n",
      "- tz.img\n",
      "- uefisecapp.img\n",
      "- vbmeta.img\n",
      "- vbmeta_system.img\n",
      "- vendor.img\n",
      "- xbl_config.img\n",
      "- xbl.img \n",
      "### 2.1 What are the image files' function?\n",
      "The function of the image files is not specified in the given text.\n",
      "### 2.2 Which image file or files should be reversed?\n",
      "The specific image file(s) which need to be reversed are not specified in the given text.\n",
      "#### 2.2.1 How to reverse in details\n",
      "The process of reversing the specific image file(s) is not specified in the given text.\n"
     ]
    }
   ],
   "source": [
    "img_info = f\"\"\"\n",
    "Given image files: [abl.img, aop.img, Wi-Fi.img,\\\n",
    "boot.img, core_nhlos.img, devcfg.img, dsp.img, dtbo.img, \\\n",
    "featenabler.img, hyp.img, imagefv.img, keymaster.img, modem.img, \\\n",
    "multiimgoem.img, product.img, qupfw.img, recovery.img, \\\n",
    "system.img, tz.img, uefisecapp.img, vbmeta.img, \\\n",
    "vbmeta_system.img, vendor.img, xbl_config.img, xbl.img]\n",
    "\n",
    "\"\"\"\n",
    "info = f\"\"\"\n",
    "Under the condition that this SD690(SnapDragon 690) is interacting with RH850,\\\n",
    "the target is figuring out the interaction between SD690 and RH850\\\n",
    "by revering specific image file in infomation delimited by double\\\n",
    "backticks:\n",
    "``{img_info}``\n",
    "\"\"\"\n",
    "\n",
    "text = f\"\"\"\n",
    "({info})\n",
    "# Indroduction about `Reversing SD690 Image Files`:\n",
    "## 1. What is SD690 and RH850?\n",
    "### 1.1 What is the relationship between them?\n",
    "## 2. What is the target of this reversing?\n",
    "## 3. What are the image files in SD690?\n",
    "### 2.1 What are the image files' function?\n",
    "### 2.2 Which image file or files should be reversed?\n",
    "#### 2.2.1 How to reverse in details\n",
    "\"\"\"\n",
    "\n",
    "prompt = f\"\"\"\n",
    "Answer the questions in the text delimited by \\\n",
    "triple backticks.\n",
    "Put the answer below each question. \\\n",
    "Output questions and answers in raw \\\n",
    "Markdown format.\n",
    "```{text}```\n",
    "\"\"\"\n",
    "print('prompt:\\n',prompt, '\\n')\n",
    "response = get_completion(prompt, temperature = 0.8)\n",
    "print('response:\\n',response)"
   ]
  },
  {
   "attachments": {},
   "cell_type": "markdown",
   "metadata": {},
   "source": [
    "# Got some problem about ChatGPT API "
   ]
  },
  {
   "cell_type": "code",
   "execution_count": 1,
   "metadata": {},
   "outputs": [
    {
     "ename": "NameError",
     "evalue": "name 'get_completion' is not defined",
     "output_type": "error",
     "traceback": [
      "\u001b[1;31m---------------------------------------------------------------------------\u001b[0m",
      "\u001b[1;31mNameError\u001b[0m                                 Traceback (most recent call last)",
      "Cell \u001b[1;32mIn[1], line 25\u001b[0m\n\u001b[0;32m      1\u001b[0m text \u001b[39m=\u001b[39m \u001b[39mf\u001b[39m\u001b[39m\"\"\"\u001b[39m\n\u001b[0;32m      2\u001b[0m \u001b[39mIntroduction of bluetooth penetration test on Android 10 device\u001b[39m\n\u001b[0;32m      3\u001b[0m \u001b[39m1. What is bluetooth?\u001b[39m\n\u001b[1;32m   (...)\u001b[0m\n\u001b[0;32m     12\u001b[0m \u001b[39m2.2.2 Does any of these vulnerabilities have POC, or have been exploited?\u001b[39m\n\u001b[0;32m     13\u001b[0m \u001b[39m\"\"\"\u001b[39m\n\u001b[0;32m     15\u001b[0m prompt \u001b[39m=\u001b[39m \u001b[39mf\u001b[39m\u001b[39m\"\"\"\u001b[39m\n\u001b[0;32m     16\u001b[0m \u001b[39mAnswer the questions in the text delimited by \u001b[39m\u001b[39m\\\u001b[39;00m\n\u001b[0;32m     17\u001b[0m \u001b[39mtriple backticks.\u001b[39m\n\u001b[1;32m   (...)\u001b[0m\n\u001b[0;32m     22\u001b[0m \u001b[39m```\u001b[39m\u001b[39m{\u001b[39;00mtext\u001b[39m}\u001b[39;00m\u001b[39m```\u001b[39m\n\u001b[0;32m     23\u001b[0m \u001b[39m\"\"\"\u001b[39m\n\u001b[1;32m---> 25\u001b[0m response \u001b[39m=\u001b[39m get_completion(prompt, temperature \u001b[39m=\u001b[39m \u001b[39m0.8\u001b[39m)\n\u001b[0;32m     26\u001b[0m \u001b[39mprint\u001b[39m(response)\n",
      "\u001b[1;31mNameError\u001b[0m: name 'get_completion' is not defined"
     ]
    }
   ],
   "source": [
    "text = f\"\"\"\n",
    "# 1. Why ChatGPT API seems focus too much on the information that I provide \\\n",
    "comparing to the ChatGPT API?\n",
    "## 1.1 How to solve that proble?\n",
    "\"\"\"\n",
    "\n",
    "prompt = f\"\"\"\n",
    "Answer the questions in the text delimited by \\\n",
    "triple backticks.\n",
    "Put the answer below each question. \\\n",
    "Output questions and answers in raw \\\n",
    "Markdown format.\n",
    "```{text}```\n",
    "\"\"\"\n",
    "\n",
    "response = get_completion(prompt, temperature = 0.8)\n",
    "print(response)\n"
   ]
  },
  {
   "attachments": {},
   "cell_type": "markdown",
   "metadata": {},
   "source": [
    "# Introduction of Wi-Fi penetration test on Android 10 device"
   ]
  },
  {
   "cell_type": "code",
   "execution_count": 4,
   "metadata": {},
   "outputs": [
    {
     "name": "stdout",
     "output_type": "stream",
     "text": [
      "\n",
      "Answer the questions in the text delimited by triple backticks.\n",
      "Put the answer below each question. Identify titles of different levels and output questions and answers in raw Markdown format(With '#' ahead).\n",
      "```\n",
      "Introduction of Wi-Fi penetration test on Android 10 device\n",
      "1. What is Wi-Fi?\n",
      "1.1  How does Wi-Fi work on Android 10 device?\n",
      "1.2 How does that work differently from Linux OS?\n",
      "2. What is Wi-Fi penetration test?\n",
      "2.1 How could it be implemented?\n",
      "2.1.1 What tools are needed?\n",
      "2.1.2 How to use these tools individually or together? (Use examples to illustrate)\n",
      "2.1.3 How to use MSF to penetrate Wi-Fi on Android 10 device?\n",
      "2.2.How to utilize existing CVE vulnerabilities of Wi-Fi on Android 10?\n",
      "2.2.1 What are the CVE  vulnerabilities about Wi-Fi on Android 10 after 2020?\n",
      "2.2.2 Does any of these vulnerabilities have POC, or have been exploited?\n",
      "```\n",
      "\n"
     ]
    }
   ],
   "source": [
    "text = f\"\"\"\n",
    "Introduction of Wi-Fi penetration test on Android 10 device\n",
    "1. What is Wi-Fi?\n",
    "1.1  How does Wi-Fi work on Android 10 device?\n",
    "1.2 How does that work differently from Linux OS?\n",
    "2. What is Wi-Fi penetration test?\n",
    "2.1 How could it be implemented?\n",
    "2.1.1 What tools are needed?\n",
    "2.1.2 How to use these tools individually or together? (Use examples to illustrate)\n",
    "2.1.3 How to use MSF to penetrate Wi-Fi on Android 10 device?\n",
    "2.2.How to utilize existing CVE vulnerabilities of Wi-Fi on Android 10?\n",
    "2.2.1 What are the CVE  vulnerabilities about Wi-Fi on Android 10 after 2020?\n",
    "2.2.2 Does any of these vulnerabilities have POC, or have been exploited?\n",
    "\"\"\"\n",
    "\n",
    "prompt = f\"\"\"\n",
    "Answer the questions in the text delimited by \\\n",
    "triple backticks.\n",
    "Put the answer below each question. \\\n",
    "Identify titles of different levels and \\\n",
    "output questions and answers in raw \\\n",
    "Markdown format(With '#' ahead).\n",
    "```{text}```\n",
    "\"\"\"\n",
    "\n",
    "print(prompt)"
   ]
  },
  {
   "attachments": {},
   "cell_type": "markdown",
   "metadata": {},
   "source": [
    "# Paper Extraction and Summary prompt"
   ]
  },
  {
   "cell_type": "code",
   "execution_count": 5,
   "metadata": {},
   "outputs": [
    {
     "name": "stdout",
     "output_type": "stream",
     "text": [
      "\n",
      "Fulfill the content under the titles correspondingly, which are descripted in the below text delimited by triple backticks. \n",
      "Output titles and contents in Markdown format.\n",
      "    \n",
      "```\n",
      "\" \n",
      "## Summary ## Research Objective(s) ## Background / Problem Statement ## Method(s) ## Evaluation ## Conclusion ## Notes ## References \n",
      "\"\n",
      "```\n",
      "\n"
     ]
    }
   ],
   "source": [
    "text = f\"\"\"\n",
    "\" \n",
    "## Summary \\\n",
    "## Research Objective(s) \\\n",
    "## Background / Problem Statement \\\n",
    "## Method(s) \\\n",
    "## Evaluation \\\n",
    "## Conclusion \\\n",
    "## Notes ## References \n",
    "\"\n",
    "\"\"\"\n",
    "\n",
    "prompt = f\"\"\"\n",
    "Fulfill the content under the titles correspondingly, \\\n",
    "which are descripted in the below text delimited by \\\n",
    "triple backticks. \n",
    "Output titles and contents in Markdown format.\n",
    "    \n",
    "```{text}```\n",
    "\"\"\"\n",
    "\n",
    "print(prompt)\n",
    "\n"
   ]
  },
  {
   "attachments": {},
   "cell_type": "markdown",
   "metadata": {},
   "source": [
    "# Introduction on Nand flash instruction scan"
   ]
  },
  {
   "cell_type": "code",
   "execution_count": 7,
   "metadata": {},
   "outputs": [
    {
     "name": "stdout",
     "output_type": "stream",
     "text": [
      "\n",
      "Answer the questions in the text delimited by triple backticks.\n",
      "Put the answer below each question. Identify titles of different levels and output serial numbered questions and answers \n",
      "in raw Markdown format(With '#' ahead).\n",
      "```\n",
      "Introduction on Nand flash instruction scan\n",
      "1 What's the structure of Nand flash?\n",
      "1.1 Does it have a controller to send out instructions?\n",
      "1.1.1 What's the difference between Nand flash instrution and ISA, like x86, RISCV, ARM?\n",
      "1.1.2 Is nand flash's instruction more confidencial than common ISA?\n",
      "1.2 Can a Nand flash be programed to run specific program?\n",
      "1.2.1 If so, how to make the  specific program run in the Nand flash?\n",
      "2 What is instruction scan?\n",
      "2.1 What's the main purpose of instruction scan?\n",
      "2.1.1 Does the purpose of instruction scan varies, depending on the target is nand flash or ISA?\n",
      "2.1.2 If so, what is the purpose correspondingly?\n",
      "2.2 How do exsiting works implement instruction scan on nand flash?\n",
      "2.2.1 What is the difference between nand flash and ISA instruction scan?\n",
      "2.2.2 If the main purpose is to reverse nand flash instruction, how to do that?\n",
      "2.2.3 If the main purpose is to determine nand flash instruction, it's the same as 2.1?\n",
      "2.2.4 If a scan program was used to scan nand flash instruction, would it  be processed within or without Nand flash??\n",
      "```\n",
      "\n"
     ]
    }
   ],
   "source": [
    "\n",
    "\n",
    "text = f\"\"\"\n",
    "Introduction on Nand flash instruction scan\n",
    "1 What's the structure of Nand flash?\n",
    "1.1 Does it have a controller to send out instructions?\n",
    "1.1.1 What's the difference between Nand flash instrution and ISA, like x86, RISCV, ARM?\n",
    "1.1.2 Is nand flash's instruction more confidencial than common ISA?\n",
    "1.2 Can a Nand flash be programed to run specific program?\n",
    "1.2.1 If so, how to make the  specific program run in the Nand flash?\n",
    "2 What is instruction scan?\n",
    "2.1 What's the main purpose of instruction scan?\n",
    "2.1.1 Does the purpose of instruction scan varies, depending on the target is nand flash or ISA?\n",
    "2.1.2 If so, what is the purpose correspondingly?\n",
    "2.2 How do exsiting works implement instruction scan on nand flash?\n",
    "2.2.1 What is the difference between nand flash and ISA instruction scan?\n",
    "2.2.2 If the main purpose is to reverse nand flash instruction, how to do that?\n",
    "2.2.3 If the main purpose is to determine nand flash instruction, it's the same as 2.1?\n",
    "2.2.4 If a scan program was used to scan nand flash instruction, would it  be processed within or without Nand flash??\n",
    "\"\"\"\n",
    "\n",
    "prompt = f\"\"\"\n",
    "Answer the questions in the text delimited by \\\n",
    "triple backticks.\n",
    "Put the answer below each question. \\\n",
    "Identify titles of different levels and \\\n",
    "output serial numbered questions and answers \n",
    "in raw Markdown format(With '#' ahead).\n",
    "```{text}```\n",
    "\"\"\"\n",
    "\n",
    "print(prompt)"
   ]
  }
 ],
 "metadata": {
  "kernelspec": {
   "display_name": "Python 3",
   "language": "python",
   "name": "python3"
  },
  "language_info": {
   "codemirror_mode": {
    "name": "ipython",
    "version": 3
   },
   "file_extension": ".py",
   "mimetype": "text/x-python",
   "name": "python",
   "nbconvert_exporter": "python",
   "pygments_lexer": "ipython3",
   "version": "3.11.2"
  },
  "orig_nbformat": 4
 },
 "nbformat": 4,
 "nbformat_minor": 2
}
