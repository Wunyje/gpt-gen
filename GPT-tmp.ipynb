{
 "cells": [
  {
   "cell_type": "code",
   "execution_count": 1,
   "metadata": {},
   "outputs": [],
   "source": [
    "import openai\n",
    "import os\n",
    "import cryptocode\n",
    "import my_prompt\n",
    "\n",
    "os.environ[\"http_proxy\"]=\"127.0.0.1:10810\"\n",
    "os.environ[\"https_proxy\"]=\"127.0.0.1:10810\"\n",
    "encrypt_key = '+jPnEOUhc49yoEKpqTAPiSenr4dGz37Add436GjHSXyM2wvqpDvkIfaH51vDeDPElfee*SV8GL/gwJJdXjtGe1Y8sdA==*vpovYFJYnDuD6ALUJlazFg==*m+DOSfnpsLovZfrzYmwPyA=='\n",
    "openai.api_key  = cryptocode.decrypt(encrypt_key, \"wunyje-key\")\n",
    "def get_completion(prompt, model=\"gpt-3.5-turbo\", temperature=0):\n",
    "    messages = [{\"role\": \"user\", \"content\": prompt}]\n",
    "    response = openai.ChatCompletion.create(\n",
    "        model=model,\n",
    "        messages=messages\n",
    "    )\n",
    "    return response.choices[0].message[\"content\"]\n",
    "\n",
    "def Copy_To_Clipboard( string ):\n",
    "    \"\"\" 将需要的字符串或文字复制到剪切板. \"\"\"\n",
    "    from tkinter import Tk\n",
    "    r = Tk()\n",
    "    r.withdraw()\n",
    "    r.clipboard_clear()\n",
    "    r.clipboard_append(string)\n",
    "    r.update()"
   ]
  },
  {
   "cell_type": "code",
   "execution_count": 2,
   "metadata": {},
   "outputs": [],
   "source": [
    "background_1 = f\"\"\"\n",
    "I'm developing a program about *decoding and encoding video and audio* with `Gstreamer` on `RK3588`, whose OS is `Ubuntu 2004`. \n",
    "\"\"\""
   ]
  },
  {
   "cell_type": "markdown",
   "metadata": {},
   "source": [
    "### For this page. what's the relationship between `csi2_dphyN`, `csi2_dcphyN`, `mipiN_csi` and `csi2_dphyN_hw`?\n",
    "\n",
    "The relationship between `csi2_dphyN`, `csi2_dcphyN`, `mipiN_csi` and `csi2_dphyN_hw` is as follows:\n",
    "\n",
    "- `csi2_dphyN` and `csi2_dcphyN` are the device tree nodes that represent the MIPI CSI2 DPHY and DCPHY interfaces, respectively. They are compatible with the `rockchip,rk3568-csi2-dphy` and `rockchip,rk3588-csi2-dcphy` drivers, respectively. They have a property called `rockchip,hw` that points to the corresponding hardware node (`csi2_dphyN_hw` or `mipi_dcphyN`). They also have a `ports` sub-node that defines the input and output endpoints for the DPHY or DCPHY interface.\n",
    "- `mipiN_csi` is the device tree node that represents the MIPI CSI2 host controller. It is compatible with the `rockchip,rk3588-mipi-csi2` driver. It has a property called `reg` that specifies the base address and size of the CSI2 host controller registers. It also has a `ports` sub-node that defines the input and output endpoints for the CSI2 host controller.\n",
    "- `csi2_dphyN_hw` and `mipi_dcphyN` are the device tree nodes that represent the hardware configuration of the MIPI CSI2 DPHY and DCPHY interfaces, respectively. They are compatible with the `rockchip,rk3588-csi2-dphy-hw` and `rockchip,rk3588-mipi-dcphy` drivers, respectively. They have properties such as `reg`, `clocks`, `resets`, and `rockchip,grf` that specify the register address, clock sources, reset signals, and GRF registers for the DPHY or DCPHY interface.\n",
    "\n",
    "To summarize, the relationship between these nodes is that each DPHY or DCPHY interface has a corresponding hardware node and a host controller node, and they are connected by endpoints in their ports sub-nodes. For example, in this page, there is a camera module that uses the OV13855 sensor on the CSI2 DPHY1 interface. The device tree nodes for this configuration are:\n",
    "\n",
    "- `csi2_dphy1_hw`: The hardware node for CSI2 DPHY1.\n",
    "- `csi2_dphy3`: The device node for CSI2 DPHY1 in full mode.\n",
    "- `mipi4_csi2`: The device node for MIPI CSI2 host controller 4.\n",
    "- `ov13855_3`: The device node for OV13855 sensor.\n",
    "- The endpoints that connect these nodes are:\n",
    "    - `<&ov13855_out3>`: The output endpoint of OV13855 sensor.\n",
    "    - `<&mipi_in_ucam3>`: The input endpoint of CSI2 DPHY1.\n",
    "    - `<&csidphy1_out>`: The output endpoint of CSI2 DPHY1.\n",
    "    - `<&mipi4_csi2_input>`: The input endpoint of MIPI CSI2 host controller 4.\n",
    "    - `<&mipi4_csi2_output>`: The output endpoint of MIPI CSI2 host controller 4.\n",
    "\n",
    "I hope this explanation helps you understand the relationship between these nodes. 😊\n",
    "\n"
   ]
  },
  {
   "cell_type": "code",
   "execution_count": null,
   "metadata": {},
   "outputs": [],
   "source": [
    "text = f\"\"\"\n",
    "For this page:\n",
    "1 Are 6 `csi2_dphyN` corresponding to 6 `mipiN_csi`?\n",
    "1.1 What are `mipiN_csi`'s relationship with `csi2_dphyN_hw` and `mipi_dcphyN`?\n",
    "1.2 Consider this ```MIPI CSI 输入 支持 6 路 MIPI CSI 摄像头输入（一共4接口，各接口都如此） \n",
    "支持2路MIPI CSI 4L，分辨率最大支持1080P@60，每路MIPI CSI 4L均可配置为支持2路最大支持1080P@30及720P@60分辨率。向下兼容RK3588硬件支持的所有分辨率。 \n",
    "支持4路MIPI CSI 2L，分辨率最大支持1080P@30及720P@60分辨率。 ```, what is this refering to in `dts`?\n",
    "\"\"\""
   ]
  }
 ],
 "metadata": {
  "kernelspec": {
   "display_name": "Python 3",
   "language": "python",
   "name": "python3"
  },
  "language_info": {
   "codemirror_mode": {
    "name": "ipython",
    "version": 3
   },
   "file_extension": ".py",
   "mimetype": "text/x-python",
   "name": "python",
   "nbconvert_exporter": "python",
   "pygments_lexer": "ipython3",
   "version": "3.8.0"
  },
  "orig_nbformat": 4
 },
 "nbformat": 4,
 "nbformat_minor": 2
}
