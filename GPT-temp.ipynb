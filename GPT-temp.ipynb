{
 "cells": [
  {
   "cell_type": "code",
   "execution_count": 1,
   "metadata": {},
   "outputs": [],
   "source": [
    "import openai\n",
    "import os\n",
    "import cryptocode\n",
    "import my_prompt\n",
    "\n",
    "os.environ[\"http_proxy\"]=\"127.0.0.1:10810\"\n",
    "os.environ[\"https_proxy\"]=\"127.0.0.1:10810\"\n",
    "encrypt_key = '+jPnEOUhc49yoEKpqTAPiSenr4dGz37Add436GjHSXyM2wvqpDvkIfaH51vDeDPElfee*SV8GL/gwJJdXjtGe1Y8sdA==*vpovYFJYnDuD6ALUJlazFg==*m+DOSfnpsLovZfrzYmwPyA=='\n",
    "openai.api_key  = cryptocode.decrypt(encrypt_key, \"wunyje-key\")\n",
    "def get_completion(prompt, model=\"gpt-3.5-turbo\", temperature=0):\n",
    "    messages = [{\"role\": \"user\", \"content\": prompt}]\n",
    "    response = openai.ChatCompletion.create(\n",
    "        model=model,\n",
    "        messages=messages\n",
    "    )\n",
    "    return response.choices[0].message[\"content\"]\n",
    "\n",
    "def Copy_To_Clipboard( string ):\n",
    "    \"\"\" 将需要的字符串或文字复制到剪切板. \"\"\"\n",
    "    from tkinter import Tk\n",
    "    r = Tk()\n",
    "    r.withdraw()\n",
    "    r.clipboard_clear()\n",
    "    r.clipboard_append(string)\n",
    "    r.update()"
   ]
  },
  {
   "attachments": {},
   "cell_type": "markdown",
   "metadata": {},
   "source": [
    "## Investigation on ISP"
   ]
  },
  {
   "cell_type": "code",
   "execution_count": 4,
   "metadata": {},
   "outputs": [],
   "source": [
    "text = f\"\"\"\n",
    "Investigation on ISP\n",
    "1 音视频数据通信:实现编码板与解码板之间的音视频数据通信\n",
    "2 多通讯协议支持:信令与数据通信协议,支持RTP、RTSP和RTMP协议的存储、推拉流和点播功能\n",
    "3 多码率视频转换与生成:多码率视频转换与生成\n",
    "4 带宽探测与码率选择:网络带宽探测与码率选择(QoS)\n",
    "\"\"\"\n",
    "\n",
    "prompt = my_prompt.gpt_content_gen_prompt(text)\n",
    "Copy_To_Clipboard(prompt)"
   ]
  },
  {
   "attachments": {},
   "cell_type": "markdown",
   "metadata": {},
   "source": [
    "## Include head files in CMake"
   ]
  },
  {
   "cell_type": "code",
   "execution_count": 2,
   "metadata": {},
   "outputs": [
    {
     "name": "stdout",
     "output_type": "stream",
     "text": [
      "Think step by step and then reply: I have compiled a `mpp` library myself under the path: '/home/rpdzkj/Downloads/mpp/', so I got plenty of header files distributed under several sub-pathes of ~/mpp. Then I want to compile a demo program of mpp: `mpp_linux_cpp` under '/home/rpdzkj/Downloads/mpp_linux_cpp/', which has used lots of head files under '~/mpp', the problem is although the 'CMakeLists.txt' has `target_link_libraries(mpp_linux_demo mpp pthread drm)`, but the compiler seemed haven't detected the head files. How to solve the problem?\n"
     ]
    }
   ],
   "source": [
    "text = \"Think step by step and then reply: I have compiled a `mpp` library myself under the path: '/home/rpdzkj/Downloads/mpp/',\\\n",
    " so I got plenty of header files distributed under several sub-pathes of ~/mpp. Then I want to compile a demo program of mpp: \\\n",
    "`mpp_linux_cpp` under '/home/rpdzkj/Downloads/mpp_linux_cpp/', which has used lots of head files under '~/mpp', the problem is\\\n",
    " although the 'CMakeLists.txt' has `target_link_libraries(mpp_linux_demo mpp pthread drm)`, but the compiler seemed haven't \\\n",
    "detected the head files. How to solve the problem?\"\n",
    "\n",
    "print(text)"
   ]
  },
  {
   "cell_type": "markdown",
   "metadata": {},
   "source": []
  },
  {
   "cell_type": "code",
   "execution_count": null,
   "metadata": {},
   "outputs": [],
   "source": [
    "text = \"Think step by step and then reply: I have compiled a `mpp` library myself under the path: '/home/rpdzkj/Downloads/mpp/',\\\n",
    " so I got plenty of header files distributed under several sub-pathes of ~/mpp. Then I want to compile a demo program of mpp: \\\n",
    "`mpp_linux_cpp` under '/home/rpdzkj/Downloads/mpp_linux_cpp/', which has used lots of head files under '~/mpp', the problem is\\\n",
    " although the 'CMakeLists.txt' has `target_link_libraries(mpp_linux_demo mpp pthread drm)`, but the compiler seemed haven't \\\n",
    "detected the head files. How to solve the problem?\"\n",
    "\n",
    "print(text)"
   ]
  }
 ],
 "metadata": {
  "kernelspec": {
   "display_name": "Python 3",
   "language": "python",
   "name": "python3"
  },
  "language_info": {
   "codemirror_mode": {
    "name": "ipython",
    "version": 3
   },
   "file_extension": ".py",
   "mimetype": "text/x-python",
   "name": "python",
   "nbconvert_exporter": "python",
   "pygments_lexer": "ipython3",
   "version": "3.8.0"
  },
  "orig_nbformat": 4
 },
 "nbformat": 4,
 "nbformat_minor": 2
}
