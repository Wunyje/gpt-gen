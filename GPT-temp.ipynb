{
 "cells": [
  {
   "cell_type": "code",
   "execution_count": 1,
   "metadata": {},
   "outputs": [],
   "source": [
    "import openai\n",
    "import os\n",
    "import cryptocode\n",
    "\n",
    "os.environ[\"http_proxy\"]=\"127.0.0.1:10810\"\n",
    "os.environ[\"https_proxy\"]=\"127.0.0.1:10810\"\n",
    "encrypt_key = '+jPnEOUhc49yoEKpqTAPiSenr4dGz37Add436GjHSXyM2wvqpDvkIfaH51vDeDPElfee*SV8GL/gwJJdXjtGe1Y8sdA==*vpovYFJYnDuD6ALUJlazFg==*m+DOSfnpsLovZfrzYmwPyA=='\n",
    "openai.api_key  = cryptocode.decrypt(encrypt_key, \"wunyje-key\")"
   ]
  },
  {
   "attachments": {},
   "cell_type": "markdown",
   "metadata": {},
   "source": [
    "## Chat compeletion"
   ]
  },
  {
   "cell_type": "code",
   "execution_count": 2,
   "metadata": {},
   "outputs": [],
   "source": [
    "def get_completion(prompt, model=\"gpt-3.5-turbo\", temperature=0):\n",
    "    messages = [{\"role\": \"user\", \"content\": prompt}]\n",
    "    response = openai.ChatCompletion.create(\n",
    "        model=model,\n",
    "        messages=messages\n",
    "    )\n",
    "    return response.choices[0].message[\"content\"]"
   ]
  },
  {
   "attachments": {},
   "cell_type": "markdown",
   "metadata": {},
   "source": [
    "## Prompt generation"
   ]
  },
  {
   "cell_type": "code",
   "execution_count": 44,
   "metadata": {},
   "outputs": [],
   "source": [
    "def  gpt_content_gen_prompt(text = ' ', info = ' ', format = 'Markdown'):\n",
    "    prompt = f\"\"\"\n",
    "0. After reading the whole prompt, then output as\\\n",
    "required:\n",
    "1. Only <read> given information <delimited by\\\n",
    "double backticks> and <make no output>: \n",
    "``{info}``.\n",
    "2. Answer the questions in the text <delimited by\\\n",
    "triple backticks>.Put the answer below each question.\n",
    "3. Output <[original serial numbered questions] and\\\n",
    "[generated answers]> in <hierarchical {format} grammar\\\n",
    "format>.\n",
    "```{text}```\n",
    "\"\"\"\n",
    "    return prompt\n",
    "\n",
    "def gpt_paper_sum_prompt(format = 'Markdown'):\n",
    "    text = f\"\"\"\n",
    "    \" \n",
    "    ## Summary,\\\n",
    "    ## Research Objective(s),\\\n",
    "    ## Background / Problem Statement,\\\n",
    "    ## Method(s),\\\n",
    "    ## Evaluation,\\\n",
    "    ## Conclusion,\\\n",
    "    ## Notes,\\\n",
    "    ## References \n",
    "    \" \"\"\"\n",
    "\n",
    "    prompt = f\"\"\"\n",
    "    Fulfill the content under the titles correspondingly, \\\n",
    "    which are descripted in the below text delimited by \\\n",
    "    triple backticks. \n",
    "    Output titles and contents in {format}.\n",
    "    ```{text}```\"\"\"\n",
    "    return prompt"
   ]
  },
  {
   "attachments": {},
   "cell_type": "markdown",
   "metadata": {},
   "source": [
    "## Introduction on Nand flash instruction scan"
   ]
  },
  {
   "cell_type": "code",
   "execution_count": 45,
   "metadata": {},
   "outputs": [
    {
     "name": "stdout",
     "output_type": "stream",
     "text": [
      "\n",
      "0. After reading the whole prompt, then output asrequired:\n",
      "1. Only <read> given information <delimited bydouble backticks> and <make no output>: \n",
      "`` ``.\n",
      "2. Answer the questions in the text <delimited bytriple backticks>.Put the answer below each question.\n",
      "3. Output <[original serial numbered questions] and[generated answers]> in <hierarchical Markdown grammarformat>.\n",
      "```\n",
      "Introduction on Nand flash instruction scan\n",
      "1 What's the structure of Nand flash?\n",
      "1.1 Does it have a controller to send out instructions?\n",
      "1.1.1 How does the controller interface with the host?\n",
      "1.1.1.1 What's the difference and relation between host's instruction and controller's instruction?\n",
      "1.1.2 What's the difference between Nand flash instrution and ISA, like x86, RISCV, ARM?\n",
      "1.1.3 Is nand flash's instruction more confidencial than common ISA?\n",
      "1.2 Can a Nand flash be programed to run specific program?\n",
      "1.2.1 If so, how to make the  specific program run in the Nand flash?\n",
      "2 What is instruction scan?\n",
      "2.1 What's the main purpose of instruction scan?\n",
      "2.1.1 Does the purpose of instruction scan varies, depending on the target is nand flash or ISA?\n",
      "2.1.2 If so, what is the purpose correspondingly?\n",
      "2.2 How do exsiting works implement instruction scan on nand flash?\n",
      "2.2.1 What is the difference between nand flash and ISA instruction scan?\n",
      "2.2.2 If the main purpose is to reverse nand flash instruction, how to do that?\n",
      "2.2.3 If the main purpose is to determine nand flash instruction, it's the same as 2.1?\n",
      "2.2.4 If a scan program was used to scan nand flash instruction, would it  be processed within or without Nand flash??\n",
      "```\n",
      "\n"
     ]
    }
   ],
   "source": [
    "text = f\"\"\"\n",
    "Introduction on Nand flash instruction scan\n",
    "1 What's the structure of Nand flash?\n",
    "1.1 Does it have a controller to send out instructions?\n",
    "1.1.1 How does the controller interface with the host?\n",
    "1.1.1.1 What's the difference and relation between host's \\\n",
    "instruction and controller's instruction?\n",
    "1.1.2 What's the difference between Nand flash instrution and ISA, like x86, RISCV, ARM?\n",
    "1.1.3 Is nand flash's instruction more confidencial than common ISA?\n",
    "1.2 Can a Nand flash be programed to run specific program?\n",
    "1.2.1 If so, how to make the  specific program run in the Nand flash?\n",
    "2 What is instruction scan?\n",
    "2.1 What's the main purpose of instruction scan?\n",
    "2.1.1 Does the purpose of instruction scan varies, depending on the target is nand flash or ISA?\n",
    "2.1.2 If so, what is the purpose correspondingly?\n",
    "2.2 How do exsiting works implement instruction scan on nand flash?\n",
    "2.2.1 What is the difference between nand flash and ISA instruction scan?\n",
    "2.2.2 If the main purpose is to reverse nand flash instruction, how to do that?\n",
    "2.2.3 If the main purpose is to determine nand flash instruction, it's the same as 2.1?\n",
    "2.2.4 If a scan program was used to scan nand flash instruction, would it  be processed within or without Nand flash??\n",
    "\"\"\"\n",
    "\n",
    "prompt = gpt_content_gen_prompt(text = text)\n",
    "print(prompt)"
   ]
  }
 ],
 "metadata": {
  "kernelspec": {
   "display_name": "Python 3",
   "language": "python",
   "name": "python3"
  },
  "language_info": {
   "codemirror_mode": {
    "name": "ipython",
    "version": 3
   },
   "file_extension": ".py",
   "mimetype": "text/x-python",
   "name": "python",
   "nbconvert_exporter": "python",
   "pygments_lexer": "ipython3",
   "version": "3.11.2"
  },
  "orig_nbformat": 4
 },
 "nbformat": 4,
 "nbformat_minor": 2
}
