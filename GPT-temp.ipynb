{
 "cells": [
  {
   "cell_type": "code",
   "execution_count": 1,
   "metadata": {},
   "outputs": [],
   "source": [
    "import openai\n",
    "import os\n",
    "import cryptocode\n",
    "import my_prompt\n",
    "\n",
    "os.environ[\"http_proxy\"]=\"127.0.0.1:10810\"\n",
    "os.environ[\"https_proxy\"]=\"127.0.0.1:10810\"\n",
    "encrypt_key = '+jPnEOUhc49yoEKpqTAPiSenr4dGz37Add436GjHSXyM2wvqpDvkIfaH51vDeDPElfee*SV8GL/gwJJdXjtGe1Y8sdA==*vpovYFJYnDuD6ALUJlazFg==*m+DOSfnpsLovZfrzYmwPyA=='\n",
    "openai.api_key  = cryptocode.decrypt(encrypt_key, \"wunyje-key\")\n",
    "def get_completion(prompt, model=\"gpt-3.5-turbo\", temperature=0):\n",
    "    messages = [{\"role\": \"user\", \"content\": prompt}]\n",
    "    response = openai.ChatCompletion.create(\n",
    "        model=model,\n",
    "        messages=messages\n",
    "    )\n",
    "    return response.choices[0].message[\"content\"]\n",
    "\n",
    "def Copy_To_Clipboard( string ):\n",
    "    \"\"\" 将需要的字符串或文字复制到剪切板. \"\"\"\n",
    "    from tkinter import Tk\n",
    "    r = Tk()\n",
    "    r.withdraw()\n",
    "    r.clipboard_clear()\n",
    "    r.clipboard_append(string)\n",
    "    r.update()"
   ]
  },
  {
   "attachments": {},
   "cell_type": "markdown",
   "metadata": {},
   "source": [
    "Assuming that you are a master in coding C and using Gstreamer. Convert this to Gstreamer C API :```gst-launch-1.0 v4l2src device=/dev/video41 ! image/jpeg,width=640,height=480,framerate=30/1 ! jpegdec ! autovideosink```"
   ]
  },
  {
   "attachments": {},
   "cell_type": "markdown",
   "metadata": {},
   "source": [
    "There is a requirement of a sofware\n",
    "\"\n",
    "*main function*\n",
    "1 用Gstreamer实现编码板与解码板之间的音视频数据通信 \n",
    "2 用Gstreamer提供多通讯协议支持 \n",
    "2.1 实现RTP、RTSP和RTMP协议传输 \n",
    "2.2 实现上述协议存储、推拉流和点播功能 \n",
    "3 用Gstreamer实现多码率视频转换与生成 \n",
    "4 用Gstreamer在3的基础上实现网络带宽探测与码率选择(QoS)\n",
    "\n",
    "*other requirement*\n",
    "1) 客户端，服务器端为命令行形式控制；\n",
    "2) 视频分辨率为4K向下兼容，编码方式为H 264/H 265；git pull\n",
    "3) 点播服务软件支持多点访问，支持不少于32个用户同时在线异步回放。\n",
    "\"\n",
    "Combine *main function* and *other requirement*, write the outline of the software, think step by step, "
   ]
  },
  {
   "attachments": {},
   "cell_type": "markdown",
   "metadata": {},
   "source": [
    "Think step by step, and\"\n",
    "1 Write the outline of the software\n",
    "1.1 combine *main function* and *other requirement*, make the outline an intergral\n",
    "2 Write possible programing logic on the level of using Gstreamer API\n"
   ]
  },
  {
   "attachments": {},
   "cell_type": "markdown",
   "metadata": {},
   "source": [
    "I noticed that the points in program outline are seperated and isolated\n",
    "1 can you make outline more intergral about the whole program to form a complete solution, relate the points in the outline, after all, the eventual program is an *intergral application*\n",
    "2 I need to spot the application's processing logic on the level of Gstreamer API.\n"
   ]
  },
  {
   "attachments": {},
   "cell_type": "markdown",
   "metadata": {},
   "source": [
    "\n",
    "Is there any necessity to differentiate the server and the clients program? If so, please list out the outline of corresponding sides.\n",
    "\n",
    "Take server side as example, make a more intergral outline and give me the possible file structure.\n",
    "\n",
    "Try to write the pseudo code of all the '.c' files of server side, revealing the dynamic invoking relationship between these files"
   ]
  }
 ],
 "metadata": {
  "kernelspec": {
   "display_name": "Python 3",
   "language": "python",
   "name": "python3"
  },
  "language_info": {
   "codemirror_mode": {
    "name": "ipython",
    "version": 3
   },
   "file_extension": ".py",
   "mimetype": "text/x-python",
   "name": "python",
   "nbconvert_exporter": "python",
   "pygments_lexer": "ipython3",
   "version": "3.8.0"
  },
  "orig_nbformat": 4
 },
 "nbformat": 4,
 "nbformat_minor": 2
}
