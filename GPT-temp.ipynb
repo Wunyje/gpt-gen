{
 "cells": [
  {
   "cell_type": "code",
   "execution_count": 1,
   "metadata": {},
   "outputs": [],
   "source": [
    "import openai\n",
    "import os\n",
    "import cryptocode\n",
    "import my_prompt\n",
    "\n",
    "os.environ[\"http_proxy\"]=\"127.0.0.1:10810\"\n",
    "os.environ[\"https_proxy\"]=\"127.0.0.1:10810\"\n",
    "encrypt_key = '+jPnEOUhc49yoEKpqTAPiSenr4dGz37Add436GjHSXyM2wvqpDvkIfaH51vDeDPElfee*SV8GL/gwJJdXjtGe1Y8sdA==*vpovYFJYnDuD6ALUJlazFg==*m+DOSfnpsLovZfrzYmwPyA=='\n",
    "openai.api_key  = cryptocode.decrypt(encrypt_key, \"wunyje-key\")\n",
    "def get_completion(prompt, model=\"gpt-3.5-turbo\", temperature=0):\n",
    "    messages = [{\"role\": \"user\", \"content\": prompt}]\n",
    "    response = openai.ChatCompletion.create(\n",
    "        model=model,\n",
    "        messages=messages\n",
    "    )\n",
    "    return response.choices[0].message[\"content\"]\n",
    "\n",
    "def Copy_To_Clipboard( string ):\n",
    "    \"\"\" 将需要的字符串或文字复制到剪切板. \"\"\"\n",
    "    from tkinter import Tk\n",
    "    r = Tk()\n",
    "    r.withdraw()\n",
    "    r.clipboard_clear()\n",
    "    r.clipboard_append(string)\n",
    "    r.update()"
   ]
  },
  {
   "cell_type": "code",
   "execution_count": 14,
   "metadata": {},
   "outputs": [
    {
     "ename": "",
     "evalue": "",
     "output_type": "error",
     "traceback": [
      "\u001b[1;31m在当前单元格或上一个单元格中执行代码时 Kernel 崩溃。请查看单元格中的代码，以确定故障的可能原因。有关详细信息，请单击 <a href='https://aka.ms/vscodeJupyterKernelCrash'>此处</a>。有关更多详细信息，请查看 Jupyter <a href='command:jupyter.viewOutput'>log</a>。"
     ]
    }
   ],
   "source": [
    "info=\"\"\"\n",
    "I want to build a software that can automatically insert the bookmark of ebooks\n",
    "\"\"\"\n",
    "text = f\"\"\"\n",
    "1 Recongnized the content or 目录 of the ebook \n",
    "1.1 Including the titles and page number \n",
    "2 Insert back the titles as bookmarks according to adjusted page number\n",
    "\n",
    "a Use Python\n",
    "\"\"\"\n",
    "\n",
    "prompt = my_prompt.gpt_code_gen_prompt(text,info)\n",
    "Copy_To_Clipboard(prompt)"
   ]
  },
  {
   "attachments": {},
   "cell_type": "markdown",
   "metadata": {},
   "source": []
  }
 ],
 "metadata": {
  "kernelspec": {
   "display_name": "Python 3",
   "language": "python",
   "name": "python3"
  },
  "language_info": {
   "codemirror_mode": {
    "name": "ipython",
    "version": 3
   },
   "file_extension": ".py",
   "mimetype": "text/x-python",
   "name": "python",
   "nbconvert_exporter": "python",
   "pygments_lexer": "ipython3",
   "version": "3.8.0"
  },
  "orig_nbformat": 4
 },
 "nbformat": 4,
 "nbformat_minor": 2
}
