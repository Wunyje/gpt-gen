{
 "cells": [
  {
   "cell_type": "code",
   "execution_count": 2,
   "metadata": {},
   "outputs": [],
   "source": [
    "import openai\n",
    "import os\n",
    "import cryptocode\n",
    "\n",
    "os.environ[\"http_proxy\"]=\"127.0.0.1:10810\"\n",
    "os.environ[\"https_proxy\"]=\"127.0.0.1:10810\"\n",
    "encrypt_key = '+jPnEOUhc49yoEKpqTAPiSenr4dGz37Add436GjHSXyM2wvqpDvkIfaH51vDeDPElfee*SV8GL/gwJJdXjtGe1Y8sdA==*vpovYFJYnDuD6ALUJlazFg==*m+DOSfnpsLovZfrzYmwPyA=='\n",
    "openai.api_key  = cryptocode.decrypt(encrypt_key, \"wunyje-key\")"
   ]
  },
  {
   "cell_type": "code",
   "execution_count": 3,
   "metadata": {},
   "outputs": [],
   "source": [
    "def get_completion(prompt, model=\"gpt-3.5-turbo\", temperature=0):\n",
    "    messages = [{\"role\": \"user\", \"content\": prompt}]\n",
    "    response = openai.ChatCompletion.create(\n",
    "        model=model,\n",
    "        messages=messages\n",
    "    )\n",
    "    return response.choices[0].message[\"content\"]"
   ]
  },
  {
   "cell_type": "code",
   "execution_count": 7,
   "metadata": {},
   "outputs": [
    {
     "name": "stdout",
     "output_type": "stream",
     "text": [
      "prompt:\n",
      " \n",
      "Answer the questions in the text delimited by triple backticks.\n",
      "Put the answer below each question. Output questions and answers in raw Markdown format.\n",
      "```\n",
      "(\n",
      "Under the condition that this SD690(SnapDragon 690) is interacting with RH850,the target is figuring out the interaction between SD690 and RH850by revering specific image file in infomation delimited by doublebackticks:\n",
      "``\n",
      "Given image files: [abl.img, aop.img, bluetooth.img,boot.img, core_nhlos.img, devcfg.img, dsp.img, dtbo.img, featenabler.img, hyp.img, imagefv.img, keymaster.img, modem.img, multiimgoem.img, product.img, qupfw.img, recovery.img, system.img, tz.img, uefisecapp.img, vbmeta.img, vbmeta_system.img, vendor.img, xbl_config.img, xbl.img]\n",
      "\n",
      "``\n",
      ")\n",
      "# Indroduction about `Reversing SD690 Image Files`:\n",
      "## 1. What is SD690 and RH850?\n",
      "### 1.1 What is the relationship between them?\n",
      "## 2. What is the target of this reversing?\n",
      "## 3. What are the image files in SD690?\n",
      "### 2.1 What are the image files' function?\n",
      "### 2.2 Which image file or files should be reversed?\n",
      "#### 2.2.1 How to reverse in details\n",
      "```\n",
      " \n",
      "\n"
     ]
    }
   ],
   "source": [
    "img_info = f\"\"\"\n",
    "Given image files: [abl.img, aop.img, bluetooth.img,\\\n",
    "boot.img, core_nhlos.img, devcfg.img, dsp.img, dtbo.img, \\\n",
    "featenabler.img, hyp.img, imagefv.img, keymaster.img, modem.img, \\\n",
    "multiimgoem.img, product.img, qupfw.img, recovery.img, \\\n",
    "system.img, tz.img, uefisecapp.img, vbmeta.img, \\\n",
    "vbmeta_system.img, vendor.img, xbl_config.img, xbl.img]\n",
    "\n",
    "\"\"\"\n",
    "info = f\"\"\"\n",
    "Under the condition that this SD690(SnapDragon 690) is interacting with RH850,\\\n",
    "the target is figuring out the interaction between SD690 and RH850\\\n",
    "by revering specific image file in infomation delimited by double\\\n",
    "backticks:\n",
    "``{img_info}``\n",
    "\"\"\"\n",
    "\n",
    "text = f\"\"\"\n",
    "({info})\n",
    "# Indroduction about `Reversing SD690 Image Files`:\n",
    "## 1. What is SD690 and RH850?\n",
    "### 1.1 What is the relationship between them?\n",
    "## 2. What is the target of this reversing?\n",
    "## 3. What are the image files in SD690?\n",
    "### 2.1 What are the image files' function?\n",
    "### 2.2 Which image file or files should be reversed?\n",
    "#### 2.2.1 How to reverse in details\n",
    "\"\"\"\n",
    "\n",
    "prompt = f\"\"\"\n",
    "Answer the questions in the text delimited by \\\n",
    "triple backticks.\n",
    "Put the answer below each question. \\\n",
    "Output questions and answers in raw \\\n",
    "Markdown format.\n",
    "```{text}```\n",
    "\"\"\"\n",
    "print('prompt:\\n',prompt, '\\n')\n",
    "# response = get_completion(prompt, temperature = 0.8)\n",
    "# print('response:\\n',response)"
   ]
  },
  {
   "cell_type": "code",
   "execution_count": 8,
   "metadata": {},
   "outputs": [
    {
     "name": "stdout",
     "output_type": "stream",
     "text": [
      "\n",
      "Answer the questions in the text delimited by triple backticks.\n",
      "Put the answer below each question. Output questions and answers in raw Markdown format.\n",
      "```\n",
      "# 1. Why ChatGPT API seems focus too much on the information that I provide comparing to the ChatGPT API?\n",
      "## 1.1 How to solve that proble?\n",
      "```\n",
      "\n"
     ]
    }
   ],
   "source": [
    "text = f\"\"\"\n",
    "# 1. Why ChatGPT API seems focus too much on the information that I provide \\\n",
    "comparing to the ChatGPT API?\n",
    "## 1.1 How to solve that proble?\n",
    "\"\"\"\n",
    "\n",
    "prompt = f\"\"\"\n",
    "Answer the questions in the text delimited by \\\n",
    "triple backticks.\n",
    "Put the answer below each question. \\\n",
    "Output questions and answers in raw \\\n",
    "Markdown format.\n",
    "```{text}```\n",
    "\"\"\"\n",
    "\n",
    "print(prompt)\n",
    "# response = get_completion(prompt, temperature = 0.8)\n",
    "# print(response)\n"
   ]
  }
 ],
 "metadata": {
  "kernelspec": {
   "display_name": "Python 3",
   "language": "python",
   "name": "python3"
  },
  "language_info": {
   "codemirror_mode": {
    "name": "ipython",
    "version": 3
   },
   "file_extension": ".py",
   "mimetype": "text/x-python",
   "name": "python",
   "nbconvert_exporter": "python",
   "pygments_lexer": "ipython3",
   "version": "3.11.2"
  },
  "orig_nbformat": 4
 },
 "nbformat": 4,
 "nbformat_minor": 2
}
