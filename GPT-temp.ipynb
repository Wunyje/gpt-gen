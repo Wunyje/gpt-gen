{
 "cells": [
  {
   "cell_type": "code",
   "execution_count": 6,
   "metadata": {},
   "outputs": [],
   "source": [
    "import openai\n",
    "import os\n",
    "from keys import wunyje_key\n",
    "import cryptocode\n",
    "\n",
    "os.environ[\"http_proxy\"]=\"127.0.0.1:10810\"\n",
    "os.environ[\"https_proxy\"]=\"127.0.0.1:10810\"\n",
    "encrypt_key = '+jPnEOUhc49yoEKpqTAPiSenr4dGz37Add436GjHSXyM2wvqpDvkIfaH51vDeDPElfee*SV8GL/gwJJdXjtGe1Y8sdA==*vpovYFJYnDuD6ALUJlazFg==*m+DOSfnpsLovZfrzYmwPyA=='\n",
    "openai.api_key  = cryptocode.decrypt(encrypt_key, \"wunyje-key\")"
   ]
  },
  {
   "cell_type": "code",
   "execution_count": 7,
   "metadata": {},
   "outputs": [],
   "source": [
    "def get_completion(prompt, model=\"gpt-3.5-turbo\", temperature=0):\n",
    "    messages = [{\"role\": \"user\", \"content\": prompt}]\n",
    "    response = openai.ChatCompletion.create(\n",
    "        model=model,\n",
    "        messages=messages\n",
    "    )\n",
    "    return response.choices[0].message[\"content\"]"
   ]
  },
  {
   "cell_type": "code",
   "execution_count": 8,
   "metadata": {},
   "outputs": [
    {
     "name": "stdout",
     "output_type": "stream",
     "text": [
      "RH850 is a family of microcontrollers developed by Renesas Electronics. These microcontrollers are designed for automotive and industrial applications and are known for their high performance, low power consumption, and advanced functionality. The RH850 family supports a wide range of communication interfaces, including CAN, FlexRay, Ethernet, and LIN, making them ideal for use in automotive systems such as engine management, anti-lock braking systems, and advanced driver assistance systems. RH850 microcontrollers also include on-chip memory protection units, cryptographic accelerators, and other security features to help protect the system from potential security threats.\n"
     ]
    }
   ],
   "source": [
    "response = get_completion('What is RH850?', temperature = 0.7)\n",
    "print(response)"
   ]
  },
  {
   "cell_type": "code",
   "execution_count": 34,
   "metadata": {},
   "outputs": [
    {
     "name": "stdout",
     "output_type": "stream",
     "text": [
      "prompt:\n",
      " \n",
      "Answer the questions in the text delimited by triple backticks.\n",
      "Put the answer below each question. Output questions and answers in raw Markdown format.\n",
      "```\n",
      "(\n",
      "Under the condition that this SD690(SnapDragon 690) is interacting with RH850,the target is figuring out the interaction between SD690 and RH850by revering specific image file in infomation delimited by doublebackticks:\n",
      "``\n",
      "Given image files: [abl.img, aop.img, bluetooth.img,boot.img, core_nhlos.img, devcfg.img, dsp.img, dtbo.img, featenabler.img, hyp.img, imagefv.img, keymaster.img, modem.img, multiimgoem.img, product.img, qupfw.img, recovery.img, system.img, tz.img, uefisecapp.img, vbmeta.img, vbmeta_system.img, vendor.img, xbl_config.img, xbl.img]\n",
      "\n",
      "``\n",
      ")\n",
      "# Indroduction about `Reversing SD690 Image Files`:\n",
      "## 1. What is SD690 and RH850?\n",
      "### 1.1 What is the relationship between them?\n",
      "## 2. What is the target of this reversing?\n",
      "## 3. What are the image files in SD690?\n",
      "### 2.1 What are the image files' function?\n",
      "### 2.2 Which image file or files should be reversed?\n",
      "#### 2.2.1 How to reverse in details\n",
      "```\n",
      " \n",
      "\n",
      "response:\n",
      " # Answers\n",
      "## 1. What is SD690 and RH850?\n",
      "SD690 is a SnapDragon 690 processor and RH850 is another type of processor which is interacting with SD690 in this case.\n",
      "### 1.1 What is the relationship between them?\n",
      "The relationship between SD690 and RH850 is not specified in the given text.\n",
      "## 2. What is the target of this reversing?\n",
      "The target of this reversing is to figure out the interaction between SD690 and RH850 by reversing specific image file(s).\n",
      "## 3. What are the image files in SD690?\n",
      "The image files in SD690 are:\n",
      "- abl.img\n",
      "- aop.img\n",
      "- bluetooth.img\n",
      "- boot.img\n",
      "- core_nhlos.img\n",
      "- devcfg.img\n",
      "- dsp.img\n",
      "- dtbo.img\n",
      "- featenabler.img\n",
      "- hyp.img\n",
      "- imagefv.img\n",
      "- keymaster.img\n",
      "- modem.img\n",
      "- multiimgoem.img\n",
      "- product.img\n",
      "- qupfw.img\n",
      "- recovery.img\n",
      "- system.img\n",
      "- tz.img\n",
      "- uefisecapp.img\n",
      "- vbmeta.img\n",
      "- vbmeta_system.img\n",
      "- vendor.img\n",
      "- xbl_config.img\n",
      "- xbl.img \n",
      "### 2.1 What are the image files' function?\n",
      "The function of the image files is not specified in the given text.\n",
      "### 2.2 Which image file or files should be reversed?\n",
      "The specific image file(s) which need to be reversed are not specified in the given text.\n",
      "#### 2.2.1 How to reverse in details\n",
      "The process of reversing the specific image file(s) is not specified in the given text.\n"
     ]
    }
   ],
   "source": [
    "img_info = f\"\"\"\n",
    "Given image files: [abl.img, aop.img, bluetooth.img,\\\n",
    "boot.img, core_nhlos.img, devcfg.img, dsp.img, dtbo.img, \\\n",
    "featenabler.img, hyp.img, imagefv.img, keymaster.img, modem.img, \\\n",
    "multiimgoem.img, product.img, qupfw.img, recovery.img, \\\n",
    "system.img, tz.img, uefisecapp.img, vbmeta.img, \\\n",
    "vbmeta_system.img, vendor.img, xbl_config.img, xbl.img]\n",
    "\n",
    "\"\"\"\n",
    "info = f\"\"\"\n",
    "Under the condition that this SD690(SnapDragon 690) is interacting with RH850,\\\n",
    "the target is figuring out the interaction between SD690 and RH850\\\n",
    "by revering specific image file in infomation delimited by double\\\n",
    "backticks:\n",
    "``{img_info}``\n",
    "\"\"\"\n",
    "\n",
    "text = f\"\"\"\n",
    "({info})\n",
    "# Indroduction about `Reversing SD690 Image Files`:\n",
    "## 1. What is SD690 and RH850?\n",
    "### 1.1 What is the relationship between them?\n",
    "## 2. What is the target of this reversing?\n",
    "## 3. What are the image files in SD690?\n",
    "### 2.1 What are the image files' function?\n",
    "### 2.2 Which image file or files should be reversed?\n",
    "#### 2.2.1 How to reverse in details\n",
    "\"\"\"\n",
    "\n",
    "prompt = f\"\"\"\n",
    "Answer the questions in the text delimited by \\\n",
    "triple backticks.\n",
    "Put the answer below each question. \\\n",
    "Output questions and answers in raw \\\n",
    "Markdown format.\n",
    "```{text}```\n",
    "\"\"\"\n",
    "print('prompt:\\n',prompt, '\\n')\n",
    "response = get_completion(prompt, temperature = 0.8)\n",
    "print('response:\\n',response)"
   ]
  },
  {
   "cell_type": "code",
   "execution_count": 32,
   "metadata": {},
   "outputs": [
    {
     "name": "stdout",
     "output_type": "stream",
     "text": [
      "# Questions and Answers\n",
      "\n",
      "1. Why ChatGPT API seems focus too much on the information that I provide comparing to the ChatGPT API? \n",
      "\n",
      "It's difficult to answer this question without further context or information about the specific situation or experience with ChatGPT API. Could you please provide more details or clarification?\n",
      "\n",
      "## 1.1 How to solve that problem?\n",
      "\n",
      "As there is no specific problem mentioned, it's difficult to provide a solution. Can you please give more information about the problem you are facing with ChatGPT API?\n"
     ]
    }
   ],
   "source": [
    "text = f\"\"\"\n",
    "# 1. Why ChatGPT API seems focus too much on the information that I provide \\\n",
    "comparing to the ChatGPT API?\n",
    "## 1.1 How to solve that proble?\n",
    "\"\"\"\n",
    "\n",
    "prompt = f\"\"\"\n",
    "Answer the questions in the text delimited by \\\n",
    "triple backticks.\n",
    "Put the answer below each question. \\\n",
    "Output questions and answers in raw \\\n",
    "Markdown format.\n",
    "```{text}```\n",
    "\"\"\"\n",
    "\n",
    "response = get_completion(prompt, temperature = 0.8)\n",
    "print(response)\n"
   ]
  }
 ],
 "metadata": {
  "kernelspec": {
   "display_name": "Python 3",
   "language": "python",
   "name": "python3"
  },
  "language_info": {
   "codemirror_mode": {
    "name": "ipython",
    "version": 3
   },
   "file_extension": ".py",
   "mimetype": "text/x-python",
   "name": "python",
   "nbconvert_exporter": "python",
   "pygments_lexer": "ipython3",
   "version": "3.11.2"
  },
  "orig_nbformat": 4
 },
 "nbformat": 4,
 "nbformat_minor": 2
}
