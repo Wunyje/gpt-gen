{
 "cells": [
  {
   "cell_type": "code",
   "execution_count": 1,
   "metadata": {},
   "outputs": [],
   "source": [
    "import openai\n",
    "import os\n",
    "import cryptocode\n",
    "import my_prompt\n",
    "\n",
    "os.environ[\"http_proxy\"]=\"127.0.0.1:10810\"\n",
    "os.environ[\"https_proxy\"]=\"127.0.0.1:10810\"\n",
    "encrypt_key = '+jPnEOUhc49yoEKpqTAPiSenr4dGz37Add436GjHSXyM2wvqpDvkIfaH51vDeDPElfee*SV8GL/gwJJdXjtGe1Y8sdA==*vpovYFJYnDuD6ALUJlazFg==*m+DOSfnpsLovZfrzYmwPyA=='\n",
    "openai.api_key  = cryptocode.decrypt(encrypt_key, \"wunyje-key\")\n",
    "def get_completion(prompt, model=\"gpt-3.5-turbo\", temperature=0):\n",
    "    messages = [{\"role\": \"user\", \"content\": prompt}]\n",
    "    response = openai.ChatCompletion.create(\n",
    "        model=model,\n",
    "        messages=messages\n",
    "    )\n",
    "    return response.choices[0].message[\"content\"]\n",
    "\n",
    "def Copy_To_Clipboard( string ):\n",
    "    \"\"\" 将需要的字符串或文字复制到剪切板. \"\"\"\n",
    "    from tkinter import Tk\n",
    "    r = Tk()\n",
    "    r.withdraw()\n",
    "    r.clipboard_clear()\n",
    "    r.clipboard_append(string)\n",
    "    r.update()"
   ]
  },
  {
   "attachments": {},
   "cell_type": "markdown",
   "metadata": {},
   "source": [
    "## Question Log on CVE-2020-0022 --- A Bluetooth Vul"
   ]
  },
  {
   "cell_type": "code",
   "execution_count": 4,
   "metadata": {},
   "outputs": [],
   "source": [
    "text = f\"\"\"\n",
    "赓续五四精神，激扬青春力量\n",
    "1 五四运动给我们何种精神启示？\n",
    "2 当今世界风云变幻，如何传承五四精神应对这些挑战？\n",
    "2.1 在意识形态斗争，亚太地区局势紧张下\n",
    "2.1.1 意识形态斗争激烈残酷，要提高警惕\n",
    "2.1.2 台湾尚未回归，台海动荡不安，发扬爱国精神，维护领土完整\n",
    "2.2 结合“三个代表”精神，靠近党即是进步\n",
    "2.2.1 要积极领会“三个代表”精神\n",
    "2.2.2 要积极向党靠拢，发扬进步精神\n",
    "2.3 民主精神以小见大\n",
    "2.3.1 拥护党的全过程民主\n",
    "2.3.2 也从自己身边做起。在课题组内，在家里做好小的民主\n",
    "2.4 马克思主义立场观点是科学的方法 \n",
    "2.4.1 加强学习马克思主义“活的灵魂”，理论实践相结合\n",
    "2.4.2 在科技战争、芯片战争背景下，有被卡脖子的紧迫\\\n",
    "要增强学习紧迫感，为建设祖国为科技强国而奋斗\n",
    "3 结语\n",
    "\"\"\"\n",
    "\n",
    "prompt = my_prompt.gpt_content_gen_prompt(text)\n",
    "Copy_To_Clipboard(prompt)"
   ]
  }
 ],
 "metadata": {
  "kernelspec": {
   "display_name": "Python 3",
   "language": "python",
   "name": "python3"
  },
  "language_info": {
   "codemirror_mode": {
    "name": "ipython",
    "version": 3
   },
   "file_extension": ".py",
   "mimetype": "text/x-python",
   "name": "python",
   "nbconvert_exporter": "python",
   "pygments_lexer": "ipython3",
   "version": "3.11.2"
  },
  "orig_nbformat": 4
 },
 "nbformat": 4,
 "nbformat_minor": 2
}
