{
 "cells": [
  {
   "cell_type": "code",
   "execution_count": 1,
   "metadata": {},
   "outputs": [],
   "source": [
    "import openai\n",
    "import os\n",
    "import cryptocode\n",
    "import my_prompt\n",
    "\n",
    "os.environ[\"http_proxy\"]=\"127.0.0.1:10810\"\n",
    "os.environ[\"https_proxy\"]=\"127.0.0.1:10810\"\n",
    "encrypt_key = '+jPnEOUhc49yoEKpqTAPiSenr4dGz37Add436GjHSXyM2wvqpDvkIfaH51vDeDPElfee*SV8GL/gwJJdXjtGe1Y8sdA==*vpovYFJYnDuD6ALUJlazFg==*m+DOSfnpsLovZfrzYmwPyA=='\n",
    "openai.api_key  = cryptocode.decrypt(encrypt_key, \"wunyje-key\")\n",
    "def get_completion(prompt, model=\"gpt-3.5-turbo\", temperature=0):\n",
    "    messages = [{\"role\": \"user\", \"content\": prompt}]\n",
    "    response = openai.ChatCompletion.create(\n",
    "        model=model,\n",
    "        messages=messages\n",
    "    )\n",
    "    return response.choices[0].message[\"content\"]\n",
    "\n",
    "def Copy_To_Clipboard( string ):\n",
    "    \"\"\" 将需要的字符串或文字复制到剪切板. \"\"\"\n",
    "    from tkinter import Tk\n",
    "    r = Tk()\n",
    "    r.withdraw()\n",
    "    r.clipboard_clear()\n",
    "    r.clipboard_append(string)\n",
    "    r.update()"
   ]
  },
  {
   "attachments": {},
   "cell_type": "markdown",
   "metadata": {},
   "source": [
    "## Gstreamer实现多路音视频传输编解码"
   ]
  },
  {
   "cell_type": "code",
   "execution_count": 4,
   "metadata": {},
   "outputs": [],
   "source": [
    "text = f\"\"\"\n",
    "Gstreamer实现多路音视频传输编解码\n",
    "1 用*Gstreamer*实现编码板与解码板之间的音视频数据通信\n",
    "2 用*Gstreamer*提供多通讯协议支持\n",
    "2.1 实现RTP、RTSP和RTMP协议传输\n",
    "2.2 实现上述协议存储、推拉流和点播功能\n",
    "3 用*Gstreamer*实现多码率视频转换与生成\n",
    "4 用*Gstreamer*在3的基础上实现网络带宽探测与码率选择(QoS)\n",
    "\"\"\"\n",
    "\n",
    "prompt = my_prompt.gpt_content_gen_prompt(text)\n",
    "Copy_To_Clipboard(prompt)"
   ]
  }
 ],
 "metadata": {
  "kernelspec": {
   "display_name": "Python 3",
   "language": "python",
   "name": "python3"
  },
  "language_info": {
   "codemirror_mode": {
    "name": "ipython",
    "version": 3
   },
   "file_extension": ".py",
   "mimetype": "text/x-python",
   "name": "python",
   "nbconvert_exporter": "python",
   "pygments_lexer": "ipython3",
   "version": "3.11.2"
  },
  "orig_nbformat": 4
 },
 "nbformat": 4,
 "nbformat_minor": 2
}
